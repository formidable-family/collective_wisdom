{
 "cells": [
  {
   "cell_type": "code",
   "execution_count": 29,
   "metadata": {},
   "outputs": [],
   "source": [
    "import sys\n",
    "sys.path.insert(0, '/System/Library/Frameworks/Python.framework/Versions/2.7/Extras/lib/python')\n",
    "sys.path.insert(0, '/Library/Python/2.7/site-packages')"
   ]
  },
  {
   "cell_type": "code",
   "execution_count": 30,
   "metadata": {},
   "outputs": [],
   "source": [
    "import pandas as pd\n",
    "import numpy as np\n",
    "import os"
   ]
  },
  {
   "cell_type": "code",
   "execution_count": 31,
   "metadata": {},
   "outputs": [],
   "source": [
    "surveys = os.listdir(\"experts+friends\")"
   ]
  },
  {
   "cell_type": "code",
   "execution_count": 32,
   "metadata": {},
   "outputs": [
    {
     "name": "stdout",
     "output_type": "stream",
     "text": [
      "('wikisurvey_eviction_votes.csv', 'Number of votes: 980', 'Number of unique voters: 29')\n",
      "('wikisurvey_gpa_votes.csv', 'Number of votes: 530', 'Number of unique voters: 24')\n",
      "('wikisurvey_grit_votes.csv', 'Number of votes: 299', 'Number of unique voters: 9')\n",
      "('wikisurvey_job_training_votes.csv', 'Number of votes: 33', 'Number of unique voters: 4')\n",
      "('wikisurvey_layoff_votes.csv', 'Number of votes: 32', 'Number of unique voters: 4')\n",
      "('wikisurvey_material_hardship_votes.csv', 'Number of votes: 777', 'Number of unique voters: 31')\n"
     ]
    }
   ],
   "source": [
    "for each in surveys:\n",
    "    if each.count(\"_ideas.csv\"):\n",
    "        continue\n",
    "        \n",
    "    df = pd.read_csv(\"experts+friends/\" + each, header=0)\n",
    "    voters = np.unique(df['Hashed IP Address'])\n",
    "    print(each, \"Number of votes: %d\" % len(df.index), \"Number of unique voters: %d\" % len(voters))"
   ]
  },
  {
   "cell_type": "code",
   "execution_count": 33,
   "metadata": {
    "collapsed": true
   },
   "outputs": [],
   "source": [
    "surveys = os.listdir(\"mturks\")"
   ]
  },
  {
   "cell_type": "code",
   "execution_count": 34,
   "metadata": {},
   "outputs": [
    {
     "name": "stdout",
     "output_type": "stream",
     "text": [
      "('wikisurvey_eviction_votes.csv', 'Number of votes: 980', 'Number of unique voters: 29')\n",
      "('wikisurvey_gpa_votes.csv', 'Number of votes: 530', 'Number of unique voters: 24')\n",
      "('wikisurvey_grit_votes.csv', 'Number of votes: 299', 'Number of unique voters: 9')\n",
      "('wikisurvey_job_training_votes.csv', 'Number of votes: 33', 'Number of unique voters: 4')\n",
      "('wikisurvey_layoff_votes.csv', 'Number of votes: 32', 'Number of unique voters: 4')\n",
      "('wikisurvey_material_hardship_votes.csv', 'Number of votes: 777', 'Number of unique voters: 31')\n"
     ]
    }
   ],
   "source": [
    "for each in surveys:\n",
    "    if each.count(\"_ideas.csv\"):\n",
    "        continue\n",
    "        \n",
    "    df = pd.read_csv(\"experts+friends/\" + each, header=0)\n",
    "    voters = np.unique(df['Hashed IP Address'])\n",
    "    print(each, \"Number of votes: %d\" % len(df.index), \"Number of unique voters: %d\" % len(voters))"
   ]
  },
  {
   "cell_type": "code",
   "execution_count": null,
   "metadata": {
    "collapsed": true
   },
   "outputs": [],
   "source": []
  }
 ],
 "metadata": {
  "kernelspec": {
   "display_name": "Python 2",
   "language": "python",
   "name": "python2"
  },
  "language_info": {
   "codemirror_mode": {
    "name": "ipython",
    "version": 2
   },
   "file_extension": ".py",
   "mimetype": "text/x-python",
   "name": "python",
   "nbconvert_exporter": "python",
   "pygments_lexer": "ipython2",
   "version": "2.7.13"
  }
 },
 "nbformat": 4,
 "nbformat_minor": 2
}
